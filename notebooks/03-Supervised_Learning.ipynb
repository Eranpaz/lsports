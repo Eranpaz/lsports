{
 "cells": [
  {
   "cell_type": "markdown",
   "metadata": {
    "deletable": true,
    "editable": true
   },
   "source": [
    "# Supervised Learning"
   ]
  },
  {
   "cell_type": "markdown",
   "metadata": {
    "deletable": true,
    "editable": true
   },
   "source": [
    "In supervised learning we are trying to learn a model that maps input X to output Y, Y=f(X).\n",
    "Both X and Y can have many different characteristics."
   ]
  },
  {
   "cell_type": "markdown",
   "metadata": {
    "deletable": true,
    "editable": true
   },
   "source": [
    "## Linear Regression"
   ]
  },
  {
   "cell_type": "markdown",
   "metadata": {
    "deletable": true,
    "editable": true
   },
   "source": [
    "We will generate a simple dataset, y=3.2*x+1.3+eps"
   ]
  },
  {
   "cell_type": "code",
   "execution_count": null,
   "metadata": {
    "collapsed": true,
    "deletable": true,
    "editable": true
   },
   "outputs": [],
   "source": [
    "import numpy as np\n",
    "import random\n",
    "from matplotlib import pyplot as plt\n",
    "%matplotlib inline"
   ]
  },
  {
   "cell_type": "code",
   "execution_count": null,
   "metadata": {
    "collapsed": true,
    "deletable": true,
    "editable": true
   },
   "outputs": [],
   "source": [
    "x=np.random.random((200,1))*20\n",
    "y=3.2*x+1.3+(-5+np.random.random((200,1))*10)"
   ]
  },
  {
   "cell_type": "code",
   "execution_count": null,
   "metadata": {
    "collapsed": false,
    "deletable": true,
    "editable": true
   },
   "outputs": [],
   "source": [
    "plt.scatter(x,y)\n",
    "plt.show()"
   ]
  },
  {
   "cell_type": "markdown",
   "metadata": {
    "deletable": true,
    "editable": true
   },
   "source": [
    "Our function is in the form of y=Wx+b, where x,y are constant, and W,b are the function parameters."
   ]
  },
  {
   "cell_type": "markdown",
   "metadata": {
    "deletable": true,
    "editable": true
   },
   "source": [
    "Let's try to estimate the parameters:\n",
    "Let w=3 and b=1.5 for our first model and w=3.5 and b=0.9 for another model"
   ]
  },
  {
   "cell_type": "code",
   "execution_count": null,
   "metadata": {
    "collapsed": true,
    "deletable": true,
    "editable": true
   },
   "outputs": [],
   "source": [
    "prediction1=3*x+1.5\n",
    "prediction2=3.5*x+0.9"
   ]
  },
  {
   "cell_type": "code",
   "execution_count": null,
   "metadata": {
    "collapsed": false,
    "deletable": true,
    "editable": true
   },
   "outputs": [],
   "source": [
    "plt.scatter(x,y)\n",
    "plt.plot(x,prediction1,'r-')\n",
    "plt.plot(x,prediction2,'g-')\n",
    "plt.show()"
   ]
  },
  {
   "cell_type": "markdown",
   "metadata": {
    "deletable": true,
    "editable": true
   },
   "source": [
    "Which model is better? How can we estimate the \"goodness\" of a model?"
   ]
  },
  {
   "cell_type": "markdown",
   "metadata": {
    "deletable": true,
    "editable": true
   },
   "source": [
    "MSE=Mean Square Error"
   ]
  },
  {
   "cell_type": "code",
   "execution_count": null,
   "metadata": {
    "collapsed": false,
    "deletable": true,
    "editable": true
   },
   "outputs": [],
   "source": [
    "mse1=np.mean(np.square(prediction1-y))\n",
    "print \"MSE1 value=\",mse1\n",
    "mse2=np.mean(np.square(prediction2-y))\n",
    "print \"MSE2 value=\",mse2"
   ]
  },
  {
   "cell_type": "code",
   "execution_count": null,
   "metadata": {
    "collapsed": false,
    "deletable": true,
    "editable": true
   },
   "outputs": [],
   "source": [
    "A = np.concatenate([x,np.ones_like(x)],axis=1)\n",
    "w, b = np.linalg.lstsq(A, y)[0]\n",
    "print w,b"
   ]
  },
  {
   "cell_type": "code",
   "execution_count": null,
   "metadata": {
    "collapsed": false,
    "deletable": true,
    "editable": true
   },
   "outputs": [],
   "source": [
    "A.shape"
   ]
  },
  {
   "cell_type": "code",
   "execution_count": null,
   "metadata": {
    "collapsed": true,
    "deletable": true,
    "editable": true
   },
   "outputs": [],
   "source": [
    "prediction3=w*x+b"
   ]
  },
  {
   "cell_type": "code",
   "execution_count": null,
   "metadata": {
    "collapsed": false,
    "deletable": true,
    "editable": true
   },
   "outputs": [],
   "source": [
    "MSE_MIN=np.mean(np.square(prediction3-y))\n",
    "print \"MSE_MIN value=\",MSE_MIN"
   ]
  },
  {
   "cell_type": "markdown",
   "metadata": {
    "collapsed": true,
    "deletable": true,
    "editable": true
   },
   "source": [
    "## Cats Vs. Dogs"
   ]
  },
  {
   "cell_type": "markdown",
   "metadata": {
    "deletable": true,
    "editable": true
   },
   "source": [
    "### Data Preparation"
   ]
  },
  {
   "cell_type": "code",
   "execution_count": null,
   "metadata": {
    "collapsed": false,
    "deletable": true,
    "editable": true
   },
   "outputs": [],
   "source": [
    "from skimage import io, transform,color,img_as_ubyte\n",
    "import glob\n",
    "import pickle\n",
    "from sklearn import linear_model\n",
    "import os\n",
    "\n",
    "\n",
    "LOAD_DATA=True\n",
    "\n",
    "IMG_SHAPE=(50,50,3)\n",
    "IMG_SIZE=IMG_SHAPE[0]*IMG_SHAPE[1]*IMG_SHAPE[2]"
   ]
  },
  {
   "cell_type": "markdown",
   "metadata": {
    "deletable": true,
    "editable": true
   },
   "source": [
    "### Examine Data"
   ]
  },
  {
   "cell_type": "code",
   "execution_count": null,
   "metadata": {
    "collapsed": false,
    "deletable": true,
    "editable": true
   },
   "outputs": [],
   "source": [
    "files=glob.glob('../data/cats_Vs_dogs/train/*jpg')\n",
    "sub=random.sample(files,10)\n",
    "\n",
    "for i in sub:\n",
    "    img=io.imread(i)\n",
    "    print \"img type\",img.dtype\n",
    "    print \"file name\",i\n",
    "    print \"image shape\",img.shape"
   ]
  },
  {
   "cell_type": "code",
   "execution_count": null,
   "metadata": {
    "collapsed": false,
    "deletable": true,
    "editable": true
   },
   "outputs": [],
   "source": [
    "io.imshow(io.imread(sub[0]))"
   ]
  },
  {
   "cell_type": "code",
   "execution_count": null,
   "metadata": {
    "collapsed": false,
    "deletable": true,
    "editable": true
   },
   "outputs": [],
   "source": [
    "io.imshow(io.imread(sub[1]))"
   ]
  },
  {
   "cell_type": "code",
   "execution_count": null,
   "metadata": {
    "collapsed": true,
    "deletable": true,
    "editable": true
   },
   "outputs": [],
   "source": [
    "def resize_and_crop(img):\n",
    "    w,h,c=img.shape\n",
    "    scale_ratio=max(float(IMG_SHAPE[0])/w,float(IMG_SHAPE[1])/h)\n",
    "    resized_img=transform.rescale(img,scale=scale_ratio)\n",
    "    crop=resized_img[:int(IMG_SHAPE[0]),:int(IMG_SHAPE[1]),:int(IMG_SHAPE[2])]\n",
    "    flat=np.reshape(crop,[int(IMG_SHAPE[0]*IMG_SHAPE[1])*IMG_SHAPE[2]])\n",
    "    return img_as_ubyte(crop),img_as_ubyte(flat)"
   ]
  },
  {
   "cell_type": "code",
   "execution_count": null,
   "metadata": {
    "collapsed": false,
    "deletable": true,
    "editable": true
   },
   "outputs": [],
   "source": [
    "#Prepare training set (data & labels)\n",
    "if LOAD_DATA and os.path.exists('../data/cats_Vs_dogs/training.pkl'):\n",
    "    print (\"Found pickle file, loading data\")\n",
    "    fin=open('../data/cats_Vs_dogs/training.pkl','r')\n",
    "    training_set=pickle.load(fin)\n",
    "    fin.close()\n",
    "    data=training_set['data']\n",
    "    labels=training_set['labels']\n",
    "else:\n",
    "    data=np.zeros((len(files),IMG_SIZE),dtype=np.uint8)\n",
    "    labels=np.zeros(len(files),dtype=np.uint8)\n",
    "    \n",
    "    for idx,f in enumerate(files):\n",
    "        if idx%1000==0:\n",
    "            print \"idx=\",idx\n",
    "        crop,flat=resize_and_crop(io.imread(f))\n",
    "        data[idx,:]=flat\n",
    "        if 'dog.' in f:\n",
    "            labels[idx]=1\n",
    "    print \"finished\"\n",
    "    training_set={'data':data,'labels':labels}\n",
    "    s=(data.size+labels.size)/(1024.)**3\n",
    "    print (\"dataset size=%f.2G\" %s)\n",
    "    print \"dumpling dataset\"\n",
    "    fo=open('../data/cats_Vs_dogs/training.pkl','w')\n",
    "    pickle.dump(training_set,fo)\n",
    "    fo.close()"
   ]
  },
  {
   "cell_type": "markdown",
   "metadata": {
    "deletable": true,
    "editable": true
   },
   "source": [
    "Lets see our transformed images"
   ]
  },
  {
   "cell_type": "code",
   "execution_count": null,
   "metadata": {
    "collapsed": false,
    "deletable": true,
    "editable": true
   },
   "outputs": [],
   "source": [
    "io.imshow(np.reshape(random.choice(data),[50,50,3]))"
   ]
  },
  {
   "cell_type": "code",
   "execution_count": null,
   "metadata": {
    "collapsed": false,
    "deletable": true,
    "editable": true
   },
   "outputs": [],
   "source": [
    "#Prepare test set (data & labels)\n",
    "files=glob.glob('../data/cats_Vs_dogs/test/*jpg')\n",
    "if LOAD_DATA and os.path.exists('../data/cats_Vs_dogs/test.pkl'):\n",
    "    print (\"Found pickle file, loading data\")\n",
    "    fin=open('../data/cats_Vs_dogs/test.pkl','r')\n",
    "    test_set=pickle.load(fin)\n",
    "    fin.close()\n",
    "    data=test_set['data']\n",
    "    labels=test_set['labels']\n",
    "else:\n",
    "    data=np.zeros((len(files),IMG_SIZE),dtype=np.uint8)\n",
    "    labels=np.zeros(len(files),dtype=np.uint8)\n",
    "\n",
    "    for idx,f in enumerate(files):\n",
    "        if idx%1000==0:\n",
    "            print \"idx=\",idx\n",
    "        crop,flat=resize_and_crop(io.imread(f))\n",
    "        data[idx,:]=flat\n",
    "        if 'dog.' in f:\n",
    "            labels[idx]=1\n",
    "    print \"finished\"\n",
    "    test_set={'data':data,'labels':labels}\n",
    "    print \"dumping dataset\"\n",
    "    fo=open('../data/cats_Vs_dogs/test.pkl','w')\n",
    "    pickle.dump(test_set,fo)\n",
    "    fo.close()"
   ]
  },
  {
   "cell_type": "markdown",
   "metadata": {
    "deletable": true,
    "editable": true
   },
   "source": [
    "# Logistic Regression (The Easy Way)"
   ]
  },
  {
   "cell_type": "code",
   "execution_count": null,
   "metadata": {
    "collapsed": false,
    "deletable": true,
    "editable": true
   },
   "outputs": [],
   "source": [
    "#train a logistic regression classifier\n",
    "#to save time we will train only on a very small portion of the training set\n",
    "import time\n",
    "for i in range(-2,1):\n",
    "    start=time.time()\n",
    "    logreg = linear_model.LogisticRegression(C=10**i,tol=1e-5,verbose=0)\n",
    "    logreg.fit(training_set['data'][:5000],training_set['labels'][:5000])\n",
    "    print (\"i=%d, accuracy=%.4f\" %(i,logreg.score(test_set['data'],test_set['labels'])))\n",
    "    print time.time()-start\n",
    "print \"finished\""
   ]
  },
  {
   "cell_type": "code",
   "execution_count": null,
   "metadata": {
    "collapsed": false,
    "deletable": true,
    "editable": true
   },
   "outputs": [],
   "source": [
    "p=logreg.predict(test_set['data'])\n",
    "accurate=p==test_set['labels']\n",
    "wrong,=np.where(accurate==False)\n",
    "correct,=np.where(accurate==True)\n",
    "io.imshow(io.imread(files[wrong[0]]))\n",
    "print \"Model Prediction:\",p[wrong[0]]"
   ]
  },
  {
   "cell_type": "code",
   "execution_count": null,
   "metadata": {
    "collapsed": false,
    "deletable": true,
    "editable": true
   },
   "outputs": [],
   "source": [
    "io.imshow(io.imread(files[correct[0]]))\n",
    "print \"Model Prediction:\",p[correct[0]]"
   ]
  },
  {
   "cell_type": "markdown",
   "metadata": {
    "deletable": true,
    "editable": true
   },
   "source": [
    "## Logistic Regression (The Hard Way)"
   ]
  },
  {
   "cell_type": "markdown",
   "metadata": {
    "deletable": true,
    "editable": true
   },
   "source": [
    "Let's go back to basic and look at linear regression again"
   ]
  },
  {
   "cell_type": "code",
   "execution_count": null,
   "metadata": {
    "collapsed": false,
    "deletable": true,
    "editable": true
   },
   "outputs": [],
   "source": [
    "data=training_set['data']\n",
    "\n",
    "#lets look at a single image\n",
    "img=random.choice(data)\n",
    "io.imshow(np.reshape(img,[50,50,3]))\n",
    "print \"img shape:\",img.shape\n",
    "\n",
    "#We want our output to be a class score for each of the two classes, meaning shape (2,)\n",
    "#So if we have Wx=y we need W to be in shape(2,7500) (we neglect the bias in this example)\n",
    "w=np.random.random((2,7500))\n",
    "print \"w shape:\",w.shape\n",
    "\n",
    "#Multiply Wx\n",
    "cat_score,dog_score=w.dot(img)\n",
    "print \"cat score=\",cat_score\n",
    "print \"dog score=\",dog_score\n",
    "\n"
   ]
  },
  {
   "cell_type": "code",
   "execution_count": null,
   "metadata": {
    "collapsed": false,
    "deletable": true,
    "editable": true
   },
   "outputs": [],
   "source": [
    "img=random.choice(data)\n",
    "io.imshow(np.reshape(img,[50,50,3]))\n",
    "cat_score,dog_score=w.dot(img)\n",
    "print \"cat score=\",cat_score\n",
    "print \"dog score=\",dog_score"
   ]
  },
  {
   "cell_type": "markdown",
   "metadata": {
    "deletable": true,
    "editable": true
   },
   "source": [
    "## How unhappy are we from our model? (Loss)"
   ]
  },
  {
   "cell_type": "markdown",
   "metadata": {
    "deletable": true,
    "editable": true
   },
   "source": [
    "We need to define a loss function that will tell us how bad our model is.<br>\n",
    "The total loss is the average loss of all instances, where a specific loss is a function of the model's prediction and the actual label:<br>\n",
    "$$L=\\frac{1}{N} \\sum_i L_i(f(x_i,W),y_i)$$"
   ]
  },
  {
   "cell_type": "markdown",
   "metadata": {
    "deletable": true,
    "editable": true
   },
   "source": [
    "The Sigmoid function"
   ]
  },
  {
   "cell_type": "markdown",
   "metadata": {
    "deletable": true,
    "editable": true
   },
   "source": [
    "$$f(x)=\\frac{1}{1+e^{-x}}$$"
   ]
  },
  {
   "cell_type": "code",
   "execution_count": null,
   "metadata": {
    "collapsed": false,
    "deletable": true,
    "editable": true
   },
   "outputs": [],
   "source": [
    "def sigmoid(x):\n",
    "    return 1.0/(1+np.exp(-x))"
   ]
  },
  {
   "cell_type": "code",
   "execution_count": null,
   "metadata": {
    "collapsed": false,
    "deletable": true,
    "editable": true
   },
   "outputs": [],
   "source": [
    "#Not vectorized sigmoid\n",
    "x=np.arange(-10,10,0.05)\n",
    "y=map(sigmoid,x)\n",
    "plt.plot(x,y)\n",
    "plt.show()"
   ]
  },
  {
   "cell_type": "code",
   "execution_count": null,
   "metadata": {
    "collapsed": false,
    "deletable": true,
    "editable": true
   },
   "outputs": [],
   "source": [
    "#vectorized sigmoid\n",
    "y=sigmoid(x)\n",
    "plt.plot(x,y)\n",
    "plt.show()"
   ]
  },
  {
   "cell_type": "markdown",
   "metadata": {
    "deletable": true,
    "editable": true
   },
   "source": [
    "# Softmax"
   ]
  },
  {
   "cell_type": "markdown",
   "metadata": {
    "deletable": true,
    "editable": true
   },
   "source": [
    "$$P(Y=k|X=x_i)=\\frac{e^{s_k}}{\\sum_j{e^{s_j}}}$$"
   ]
  },
  {
   "cell_type": "code",
   "execution_count": null,
   "metadata": {
    "collapsed": true,
    "deletable": true,
    "editable": true
   },
   "outputs": [],
   "source": [
    "def softmax(x):\n",
    "    return np.exp(x)/np.sum(np.exp(x))"
   ]
  },
  {
   "cell_type": "code",
   "execution_count": null,
   "metadata": {
    "collapsed": false,
    "deletable": true,
    "editable": true
   },
   "outputs": [],
   "source": [
    "v=[0.5,0.9,2.1,-0.2]\n",
    "print softmax(v)"
   ]
  },
  {
   "cell_type": "code",
   "execution_count": null,
   "metadata": {
    "collapsed": false,
    "deletable": true,
    "editable": true
   },
   "outputs": [],
   "source": [
    "x=np.random.rand(200)*6-3\n",
    "x.sort()\n",
    "plt.plot(range(200),x)\n",
    "plt.show()"
   ]
  },
  {
   "cell_type": "code",
   "execution_count": null,
   "metadata": {
    "collapsed": false,
    "deletable": true,
    "editable": true
   },
   "outputs": [],
   "source": [
    "plt.plot(range(200),softmax(x))\n",
    "plt.show()"
   ]
  },
  {
   "cell_type": "code",
   "execution_count": null,
   "metadata": {
    "collapsed": false,
    "deletable": true,
    "editable": true
   },
   "outputs": [],
   "source": [
    "#Let's check our model\n",
    "img=random.choice(data)\n",
    "io.imshow(np.reshape(img,[50,50,3]))\n",
    "cat_score,dog_score=w.dot(img)\n",
    "s_cat,s_dog=softmax([cat_score,dog_score])\n",
    "print \"cat score=\",cat_score\n",
    "print \"dog score=\",dog_score\n",
    "print \"cat softmax score=\",s_cat\n",
    "print \"dog softmax score=\",s_dog"
   ]
  },
  {
   "cell_type": "code",
   "execution_count": null,
   "metadata": {
    "collapsed": true,
    "deletable": true,
    "editable": true
   },
   "outputs": [],
   "source": [
    "def softmax(x):\n",
    "    x -= np.max(x)\n",
    "    return np.exp(x)/np.sum(np.exp(x),axis=0)"
   ]
  },
  {
   "cell_type": "markdown",
   "metadata": {
    "collapsed": true,
    "deletable": true,
    "editable": true
   },
   "source": [
    "Softmax represent the probability of the image belonging to each class.<br>\n",
    "In order to turn it into loss we take the negative log of the softmax of the actual class<br>\n",
    "$$L_i=-Log\\bigg(\\frac{e^{s_{y_i}}}{\\sum_j{e^{s_j}}}\\bigg)$$\n"
   ]
  },
  {
   "cell_type": "markdown",
   "metadata": {
    "deletable": true,
    "editable": true
   },
   "source": [
    "## Regularization"
   ]
  },
  {
   "cell_type": "markdown",
   "metadata": {
    "deletable": true,
    "editable": true
   },
   "source": [
    "To support better generalization with try to enforce simplicity on the model.<br>\n",
    "There are few ways to do it, one of the common one is to force the weight of the model to remain small, we achieve that by adding a loss on the weights"
   ]
  },
  {
   "cell_type": "markdown",
   "metadata": {
    "deletable": true,
    "editable": true
   },
   "source": [
    "$$L=\\frac{1}{N} \\sum_i L_i(f(x_i,W),y_i)+\\lambda R(W)$$"
   ]
  },
  {
   "cell_type": "code",
   "execution_count": null,
   "metadata": {
    "collapsed": false,
    "deletable": true,
    "editable": true
   },
   "outputs": [],
   "source": [
    "#There are many regularization functions & methods:\n",
    "print \"L2 norm\",np.linalg.norm(w,ord=2) #L2 norm\n",
    "print \"L1 norm\",np.sum(np.abs(w))"
   ]
  },
  {
   "cell_type": "markdown",
   "metadata": {
    "deletable": true,
    "editable": true
   },
   "source": [
    "## Optimization"
   ]
  },
  {
   "cell_type": "code",
   "execution_count": null,
   "metadata": {
    "collapsed": false,
    "deletable": true,
    "editable": true
   },
   "outputs": [],
   "source": [
    "fin=open('../data/cats_Vs_dogs/training.pkl','r')\n",
    "training_set=pickle.load(fin)\n",
    "fin.close()\n",
    "train_data=training_set['data']\n",
    "train_labels=training_set['labels']\n",
    "#train_labels=np.reshape(train_labels,(train_labels.shape[0],1))\n",
    "fin=open('../data/cats_Vs_dogs/test.pkl','r')\n",
    "test_set=pickle.load(fin)\n",
    "fin.close()\n",
    "test_data=test_set['data']\n",
    "test_labels=test_set['labels']\n",
    "\n",
    "train_data = np.concatenate([train_data,np.ones([train_data.shape[0],1])],axis=1)\n",
    "test_data = np.concatenate([test_data,np.ones([test_data.shape[0],1])],axis=1)\n",
    "print train_data.shape"
   ]
  },
  {
   "cell_type": "markdown",
   "metadata": {
    "deletable": true,
    "editable": true
   },
   "source": [
    "### Random search"
   ]
  },
  {
   "cell_type": "code",
   "execution_count": null,
   "metadata": {
    "collapsed": false,
    "deletable": true,
    "editable": true
   },
   "outputs": [],
   "source": [
    "# train_data is of shape (20000,7501)\n",
    "# train_labels is of shape (20000,1)\n",
    "\n",
    "bestloss = float(\"inf\") # Python assigns the highest possible float value\n",
    "for num in xrange(1000):\n",
    "    w = np.random.randn(2, 7501) * 0.000001 # generate random parameters\n",
    "    prediction = w.dot(train_data.T)\n",
    "    logits = softmax(prediction)\n",
    "    class_logit=logits.T[np.arange(20000),train_labels]\n",
    "    total_loss = np.sum(-np.log(class_logit)) # get the loss over the entire training set\n",
    "    if total_loss < bestloss: # keep track of the best solution\n",
    "        bestloss = total_loss\n",
    "        bestW = w\n",
    "    if num%100==0:\n",
    "        print 'in attempt %d the loss was %f, best %f' % (num, total_loss, bestloss)\n",
    "print 'in attempt %d the loss was %f, best %f' % (num, total_loss, bestloss)"
   ]
  },
  {
   "cell_type": "code",
   "execution_count": null,
   "metadata": {
    "collapsed": false,
    "deletable": true,
    "editable": true
   },
   "outputs": [],
   "source": [
    "#lets check our model\n",
    "output=bestW.dot(test_data.T)\n",
    "prediction=np.argmax(output.T,axis=1)\n",
    "correct=np.sum((prediction==test_labels))\n",
    "print \"classified correctly %d images out of %d, accuracy= %.4f\" %(correct,test_labels.shape[0],float(correct)/test_labels.shape[0])"
   ]
  },
  {
   "cell_type": "markdown",
   "metadata": {
    "deletable": true,
    "editable": true
   },
   "source": [
    "### Local Random Search"
   ]
  },
  {
   "cell_type": "code",
   "execution_count": null,
   "metadata": {
    "collapsed": false,
    "deletable": true,
    "editable": true
   },
   "outputs": [],
   "source": [
    "w = np.random.randn(2, 7501) * 0.000001\n",
    "bestloss = float(\"inf\")\n",
    "for num in xrange(1000):\n",
    "    step_size = 0.000001\n",
    "    Wtry = w + np.random.randn(2, 7501) * step_size\n",
    "    prediction = Wtry.dot(train_data.T)\n",
    "    logits = softmax(prediction)\n",
    "    class_logit=logits.T[np.arange(20000),train_labels]\n",
    "    total_loss = np.sum(-np.log(class_logit)) # get the loss over the entire training set\n",
    "    if total_loss < bestloss: # keep track of the best solution\n",
    "        bestloss = total_loss\n",
    "        bestW = w\n",
    "    if num%100==0:\n",
    "        print 'in attempt %d the loss was %f, best %f' % (num, total_loss, bestloss)\n",
    "print 'in attempt %d the loss was %f, best %f' % (num, total_loss, bestloss)"
   ]
  },
  {
   "cell_type": "code",
   "execution_count": null,
   "metadata": {
    "collapsed": false,
    "deletable": true,
    "editable": true
   },
   "outputs": [],
   "source": [
    "#lets check our new model\n",
    "output=bestW.dot(test_data.T)\n",
    "prediction=np.argmax(output.T,axis=1)\n",
    "correct=np.sum((prediction==test_labels))\n",
    "print \"classified correctly %d images out of %d, accuracy= %.4f\" %(correct,test_labels.shape[0],float(correct)/test_labels.shape[0])"
   ]
  }
 ],
 "metadata": {
  "kernelspec": {
   "display_name": "Python 2",
   "language": "python",
   "name": "python2"
  },
  "language_info": {
   "codemirror_mode": {
    "name": "ipython",
    "version": 2
   },
   "file_extension": ".py",
   "mimetype": "text/x-python",
   "name": "python",
   "nbconvert_exporter": "python",
   "pygments_lexer": "ipython2",
   "version": "2.7.12"
  }
 },
 "nbformat": 4,
 "nbformat_minor": 2
}
