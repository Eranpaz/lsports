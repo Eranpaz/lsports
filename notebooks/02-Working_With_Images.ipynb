{
 "cells": [
  {
   "cell_type": "markdown",
   "metadata": {},
   "source": [
    "# Working With Images In Python"
   ]
  },
  {
   "cell_type": "markdown",
   "metadata": {},
   "source": [
    "For this tutorial we will scikit-image which extends SciPy for working with images.\n",
    "There are other options for working with images, such as OpenCV, dlib and more.\n",
    "Most concepts are implemented very similarly in most packages and you should have no problem switching."
   ]
  },
  {
   "cell_type": "code",
   "execution_count": null,
   "metadata": {
    "collapsed": true
   },
   "outputs": [],
   "source": [
    "import skimage\n",
    "from skimage import data, io, transform\n",
    "import numpy as np\n",
    "import random\n",
    "\n",
    "#import matplotlib for displaying images\n",
    "import matplotlib\n",
    "from matplotlib import pyplot as plt\n",
    "%matplotlib inline\n",
    "#matplotlib.rcParams['figure.figsize']=(10.0,8.0)\n",
    "\n"
   ]
  },
  {
   "cell_type": "markdown",
   "metadata": {},
   "source": [
    "## Greyscale Images"
   ]
  },
  {
   "cell_type": "code",
   "execution_count": null,
   "metadata": {},
   "outputs": [],
   "source": [
    "camera=data.camera()\n",
    "io.imshow(camera)"
   ]
  },
  {
   "cell_type": "code",
   "execution_count": null,
   "metadata": {},
   "outputs": [],
   "source": [
    "print \"camera shape:\",camera.shape\n",
    "print \"#First dimension is the row, second dimension is the column\"\n",
    "print \"camera size:\",camera.size"
   ]
  },
  {
   "cell_type": "code",
   "execution_count": null,
   "metadata": {},
   "outputs": [],
   "source": [
    "#rescale image\n",
    "camera_rescaled = transform.rescale(camera, 0.5)\n",
    "io.imshow(camera_rescaled)"
   ]
  },
  {
   "cell_type": "code",
   "execution_count": null,
   "metadata": {},
   "outputs": [],
   "source": [
    "#resize image\n",
    "camera_resized = transform.resize(camera, (300, 400))\n",
    "io.imshow(camera_resized)"
   ]
  },
  {
   "cell_type": "code",
   "execution_count": null,
   "metadata": {},
   "outputs": [],
   "source": [
    "camera[1:10,300:310]=0\n",
    "io.imshow(camera)"
   ]
  },
  {
   "cell_type": "code",
   "execution_count": null,
   "metadata": {},
   "outputs": [],
   "source": [
    "#get all pixels with value smaller than 87 and change them to white\n",
    "mask=camera<87\n",
    "camera[mask]=255\n",
    "io.imshow(camera)"
   ]
  },
  {
   "cell_type": "markdown",
   "metadata": {},
   "source": [
    "## Color Images"
   ]
  },
  {
   "cell_type": "code",
   "execution_count": null,
   "metadata": {},
   "outputs": [],
   "source": [
    "cat = data.chelsea()\n",
    "io.imshow(cat)"
   ]
  },
  {
   "cell_type": "code",
   "execution_count": null,
   "metadata": {},
   "outputs": [],
   "source": [
    "print \"cat shape:\",cat.shape\n",
    "print \"#First dimension is the row, second dimension is the column, thirds dimension is number of channels, in most images it's RGB\""
   ]
  },
  {
   "cell_type": "code",
   "execution_count": null,
   "metadata": {},
   "outputs": [],
   "source": [
    "io.imshow(np.concatenate((cat[:,:,0],cat[:,:,1],cat[:,:,2]),axis=1))"
   ]
  },
  {
   "cell_type": "code",
   "execution_count": null,
   "metadata": {},
   "outputs": [],
   "source": [
    "cat[1:10,300:310]=0\n",
    "io.imshow(cat)"
   ]
  },
  {
   "cell_type": "code",
   "execution_count": null,
   "metadata": {},
   "outputs": [],
   "source": [
    "cat[1:10,300:310]=[255,0,0]\n",
    "cat[1:10,311:320]=[0,255,0]\n",
    "cat[1:10,321:330]=[0,0,255]\n",
    "io.imshow(cat)"
   ]
  },
  {
   "cell_type": "code",
   "execution_count": null,
   "metadata": {},
   "outputs": [],
   "source": [
    "camera=data.camera()\n",
    "camera[50:250,100:300]=cat[:200,-200:,0]\n",
    "io.imshow(camera)"
   ]
  },
  {
   "cell_type": "markdown",
   "metadata": {},
   "source": [
    "## Filters"
   ]
  },
  {
   "cell_type": "code",
   "execution_count": null,
   "metadata": {},
   "outputs": [],
   "source": [
    "from skimage import feature, filters, util\n",
    "\n",
    "#Finding edges\n",
    "camera=data.camera()\n",
    "edge_sobel = filters.sobel(camera)\n",
    "edges1 = feature.canny(camera)\n",
    "edges2=feature.canny(camera,sigma=3)\n",
    "io.imshow(np.concatenate((edge_sobel,edges1,edges2),axis=1))"
   ]
  },
  {
   "cell_type": "code",
   "execution_count": null,
   "metadata": {},
   "outputs": [],
   "source": [
    "#Bluring images\n",
    "blur1=filters.gaussian(camera,sigma=1)\n",
    "blur2=filters.gaussian(camera,sigma=3)\n",
    "blur3=filters.gaussian(camera,sigma=5)\n",
    "io.imshow(np.concatenate((blur1,blur2,blur3),axis=1))"
   ]
  },
  {
   "cell_type": "code",
   "execution_count": null,
   "metadata": {},
   "outputs": [],
   "source": [
    "noisy_camera=util.random_noise(camera,mode='gaussian')\n",
    "io.imshow(noisy_camera)"
   ]
  },
  {
   "cell_type": "code",
   "execution_count": null,
   "metadata": {},
   "outputs": [],
   "source": [
    "#Bluring noisy images\n",
    "blur1=filters.gaussian(noisy_camera,sigma=1)\n",
    "blur2=filters.gaussian(noisy_camera,sigma=3)\n",
    "blur3=filters.gaussian(noisy_camera,sigma=5)\n",
    "io.imshow(np.concatenate((blur1,blur2,blur3),axis=1))"
   ]
  },
  {
   "cell_type": "code",
   "execution_count": null,
   "metadata": {},
   "outputs": [],
   "source": [
    "#Finding edges again\n",
    "edge_sobel = filters.sobel(blur2)\n",
    "edges1 = feature.canny(blur2)\n",
    "edges2=feature.canny(blur2,sigma=3)\n",
    "io.imshow(np.concatenate((edge_sobel,edges1,edges2),axis=1))"
   ]
  }
 ],
 "metadata": {
  "kernelspec": {
   "display_name": "Python 2",
   "language": "python",
   "name": "python2"
  },
  "language_info": {
   "codemirror_mode": {
    "name": "ipython",
    "version": 2
   },
   "file_extension": ".py",
   "mimetype": "text/x-python",
   "name": "python",
   "nbconvert_exporter": "python",
   "pygments_lexer": "ipython2",
   "version": "2.7.12"
  }
 },
 "nbformat": 4,
 "nbformat_minor": 2
}
